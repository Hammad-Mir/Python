{
 "cells": [
  {
   "cell_type": "code",
   "execution_count": 27,
   "metadata": {},
   "outputs": [],
   "source": [
    "import numpy as np\n",
    "import pandas as pd\n",
    "from sklearn.datasets import load_iris\n",
    "iris = load_iris()"
   ]
  },
  {
   "cell_type": "code",
   "execution_count": 28,
   "metadata": {},
   "outputs": [],
   "source": [
    "test_idx = [0, 50, 100]\n",
    "\n",
    "train_target = np.delete(iris.target, test_idx)\n",
    "train_data = np.delete(iris.data, test_idx, axis=0)"
   ]
  },
  {
   "cell_type": "code",
   "execution_count": 29,
   "metadata": {},
   "outputs": [],
   "source": [
    "test_target = iris.target[test_idx]\n",
    "test_data = iris.data[test_idx]"
   ]
  },
  {
   "cell_type": "code",
   "execution_count": 37,
   "metadata": {},
   "outputs": [],
   "source": [
    "class GaussianNB:\n",
    "    def __init__(self, priors=None):\n",
    "        self.priors = priors\n",
    "        m0 = 0\n",
    "        m1 = 0\n",
    "        m2 = 0\n",
    "        s0 = 0\n",
    "        s1 = 0\n",
    "        s2 = 0\n",
    "    \n",
    "    def fit(self, x, y):\n",
    "        \n",
    "        c0 = x[np.where(y==0)[0]]\n",
    "        t0 = y[np.where(y==0)[0]]\n",
    "        c1 = x[np.where(y==1)[0]]\n",
    "        t1 = y[np.where(y==1)[0]]\n",
    "        c2 = x[np.where(y==2)[0]]\n",
    "        t2 = y[np.where(y==2)[0]]\n",
    "        \n",
    "        self.m0 = c0.mean(axis=0)\n",
    "        self.m1 = c1.mean(axis=0)\n",
    "        self.m2 = c2.mean(axis=0)\n",
    "        \n",
    "        s0 = c0.var(axis=0)\n",
    "        self.s0 = np.diag(s0)\n",
    "        s1 = c1.var(axis=0)\n",
    "        self.s1 = np.diag(s1)\n",
    "        s2 = c2.var(axis=0)\n",
    "        self.s2 = np.diag(s2)\n",
    "        \n",
    "    def predict(self, x):\n",
    "        pc = np.array([(1/np.sqrt(np.linalg.det(2*np.pi*self.s0)))*np.exp((-1/2)*np.dot(np.dot(np.matrix.transpose(x-self.m0),np.linalg.inv(self.s0)), (x-self.m0))),\n",
    "                       (1/np.sqrt(np.linalg.det(2*np.pi*self.s1)))*np.exp((-1/2)*np.dot(np.dot(np.matrix.transpose(x-self.m1),np.linalg.inv(self.s1)), (x-self.m1))),\n",
    "                       (1/np.sqrt(np.linalg.det(2*np.pi*self.s2)))*np.exp((-1/2)*np.dot(np.dot(np.matrix.transpose(x-self.m2),np.linalg.inv(self.s2)), (x-self.m2)))])\n",
    "        c = np.array(['setosa', 'versicolor', 'virginica'])\n",
    "        p = c[np.argmax(pc)]\n",
    "        print(p)"
   ]
  },
  {
   "cell_type": "code",
   "execution_count": 41,
   "metadata": {},
   "outputs": [
    {
     "name": "stdout",
     "output_type": "stream",
     "text": [
      "setosa\n",
      "versicolor\n",
      "virginica\n"
     ]
    }
   ],
   "source": [
    "clf = GaussianNB()\n",
    "\n",
    "clf.fit(train_data, train_target)\n",
    "\n",
    "clf.predict(test_data[0])\n",
    "clf.predict(test_data[1])\n",
    "clf.predict(test_data[2])"
   ]
  }
 ],
 "metadata": {
  "kernelspec": {
   "display_name": "Python 3",
   "language": "python",
   "name": "python3"
  },
  "language_info": {
   "codemirror_mode": {
    "name": "ipython",
    "version": 3
   },
   "file_extension": ".py",
   "mimetype": "text/x-python",
   "name": "python",
   "nbconvert_exporter": "python",
   "pygments_lexer": "ipython3",
   "version": "3.7.0"
  }
 },
 "nbformat": 4,
 "nbformat_minor": 2
}
